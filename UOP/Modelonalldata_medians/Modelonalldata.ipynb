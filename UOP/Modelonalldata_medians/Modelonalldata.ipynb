{
 "cells": [
  {
   "cell_type": "code",
   "execution_count": 1,
   "id": "70b05fe2",
   "metadata": {},
   "outputs": [],
   "source": [
    "import warnings\n",
    "warnings.filterwarnings('ignore')"
   ]
  },
  {
   "cell_type": "markdown",
   "id": "4988b56c",
   "metadata": {},
   "source": [
    "# Libraries"
   ]
  },
  {
   "cell_type": "code",
   "execution_count": 2,
   "id": "9db18265",
   "metadata": {},
   "outputs": [],
   "source": [
    "import numpy as np\n",
    "import pandas as pd\n",
    "from pathlib import Path\n",
    "from scipy.stats import zscore\n",
    "from sklearn.model_selection import train_test_split"
   ]
  },
  {
   "cell_type": "code",
   "execution_count": 3,
   "id": "ed777ae1",
   "metadata": {},
   "outputs": [
    {
     "ename": "ModuleNotFoundError",
     "evalue": "No module named 'stabl'",
     "output_type": "error",
     "traceback": [
      "\u001b[0;31m---------------------------------------------------------------------------\u001b[0m",
      "\u001b[0;31mModuleNotFoundError\u001b[0m                       Traceback (most recent call last)",
      "\u001b[0;32m/var/folders/yw/jrjtbzm57tbfg8vxk7g41v9h0000gp/T/ipykernel_37209/2685532446.py\u001b[0m in \u001b[0;36m<cell line: 5>\u001b[0;34m()\u001b[0m\n\u001b[1;32m      3\u001b[0m \u001b[0;32mfrom\u001b[0m \u001b[0msklearn\u001b[0m\u001b[0;34m.\u001b[0m\u001b[0mlinear_model\u001b[0m \u001b[0;32mimport\u001b[0m \u001b[0mLasso\u001b[0m\u001b[0;34m\u001b[0m\u001b[0;34m\u001b[0m\u001b[0m\n\u001b[1;32m      4\u001b[0m \u001b[0;34m\u001b[0m\u001b[0m\n\u001b[0;32m----> 5\u001b[0;31m \u001b[0;32mfrom\u001b[0m \u001b[0mstabl\u001b[0m\u001b[0;34m.\u001b[0m\u001b[0mstabl\u001b[0m \u001b[0;32mimport\u001b[0m \u001b[0mStabl\u001b[0m\u001b[0;34m,\u001b[0m \u001b[0mplot_stabl_path\u001b[0m\u001b[0;34m,\u001b[0m \u001b[0mplot_fdr_graph\u001b[0m\u001b[0;34m,\u001b[0m \u001b[0msave_stabl_results\u001b[0m\u001b[0;34m,\u001b[0m \u001b[0mexport_stabl_to_csv\u001b[0m\u001b[0;34m\u001b[0m\u001b[0;34m\u001b[0m\u001b[0m\n\u001b[0m\u001b[1;32m      6\u001b[0m \u001b[0;32mfrom\u001b[0m \u001b[0mstabl\u001b[0m\u001b[0;34m.\u001b[0m\u001b[0mpreprocessing\u001b[0m \u001b[0;32mimport\u001b[0m \u001b[0mLowInfoFilter\u001b[0m\u001b[0;34m,\u001b[0m \u001b[0mremove_low_info_samples\u001b[0m\u001b[0;34m\u001b[0m\u001b[0;34m\u001b[0m\u001b[0m\n\u001b[1;32m      7\u001b[0m \u001b[0;34m\u001b[0m\u001b[0m\n",
      "\u001b[0;31mModuleNotFoundError\u001b[0m: No module named 'stabl'"
     ]
    }
   ],
   "source": [
    "from sklearn.model_selection import RepeatedStratifiedKFold, LeaveOneGroupOut\n",
    "from sklearn.base import clone\n",
    "from sklearn.linear_model import Lasso\n",
    "\n",
    "from stabl.stabl import Stabl, plot_stabl_path, plot_fdr_graph, save_stabl_results, export_stabl_to_csv\n",
    "from stabl.preprocessing import LowInfoFilter, remove_low_info_samples\n",
    "\n",
    "%config InlineBackend.figure_formats=['retina']"
   ]
  },
  {
   "cell_type": "code",
   "execution_count": null,
   "id": "ebdae33c",
   "metadata": {},
   "outputs": [],
   "source": [
    "from stabl.multi_omic_pipelines import multi_omic_stabl, multi_omic_stabl_cv, late_fusion_lasso_cv\n",
    "from stabl.single_omic_pipelines import single_omic_stabl, single_omic_stabl_cv\n",
    "from stabl.pipelines_utils import compute_features_table"
   ]
  },
  {
   "cell_type": "markdown",
   "id": "9f9ba553",
   "metadata": {},
   "source": [
    "# Data"
   ]
  },
  {
   "cell_type": "code",
   "execution_count": 4,
   "id": "c8865975",
   "metadata": {
    "scrolled": true
   },
   "outputs": [],
   "source": [
    "Val_Celldensities =     pd.read_csv('../DataMedians/Stanford_celldensities_median.csv', index_col=0)\n",
    "Val_Function =          pd.read_csv('../DataMedians/Stanford_functional_median.csv', index_col=0)\n",
    "Val_Metavariables =     pd.read_csv('../DataMedians/Stanford_metavariables_median.csv', index_col=0)\n",
    "Val_Neighborhood =      pd.read_csv('../DataMedians/Stanford_neighborhood_median.csv', index_col=0)\n",
    "\n",
    "val_data = {\n",
    "    'Val_Celldensities': Val_Celldensities,\n",
    "    'Val_Function': Val_Function,\n",
    "    'Val_Metavariables': Val_Metavariables,\n",
    "    'Val_Neighborhood': Val_Neighborhood\n",
    "}\n",
    "\n",
    "for data_name, data_frame in val_data.items():\n",
    "    numeric_columns = data_frame.select_dtypes(include=['float64', 'int64']).columns\n",
    "    val_data[data_name][numeric_columns] = val_data[data_name][numeric_columns].apply(zscore)\n",
    "\n",
    "Val_y = pd.read_csv('../DataValidation/Val_outcome.csv',index_col=0)\n",
    "Val_y['site'] = 'Stanford'\n",
    "#Val_y = Val_y.grade-1"
   ]
  },
  {
   "cell_type": "code",
   "execution_count": 5,
   "id": "f8eb82b3",
   "metadata": {},
   "outputs": [],
   "source": [
    "UOP_Celldensities =     pd.read_csv('../DataMedians/UOP_celldensities_median.csv', index_col=0)\n",
    "UOP_Function =          pd.read_csv('../DataMedians/UOP_functional_median.csv', index_col=0)\n",
    "UOP_Metavariables =     pd.read_csv('../DataMedians/UOP_metavariables_median.csv', index_col=0)\n",
    "UOP_Neighborhood =      pd.read_csv('../DataMedians/UOP_neighborhood_median.csv', index_col=0)\n",
    "\n",
    "UOP_data = {\n",
    "    'UOP_Celldensities': UOP_Celldensities,\n",
    "    'UOP_Function': UOP_Function,\n",
    "    'UOP_Metavariables': UOP_Metavariables,\n",
    "    'UOP_Neighborhood': UOP_Neighborhood\n",
    "}\n",
    "\n",
    "for data_name, data_frame in UOP_data.items():\n",
    "    numeric_columns = data_frame.select_dtypes(include=['float64', 'int64']).columns\n",
    "    UOP_data[data_name][numeric_columns] = UOP_data[data_name][numeric_columns].apply(zscore)\n",
    "\n",
    "UOP_y = pd.read_csv('../DataTraining/UOPfinal_outcome.csv',index_col=0)\n",
    "UOP_y['site'] = 'UOP'"
   ]
  },
  {
   "cell_type": "code",
   "execution_count": 6,
   "id": "c2128ec9",
   "metadata": {},
   "outputs": [
    {
     "data": {
      "text/html": [
       "<div>\n",
       "<style scoped>\n",
       "    .dataframe tbody tr th:only-of-type {\n",
       "        vertical-align: middle;\n",
       "    }\n",
       "\n",
       "    .dataframe tbody tr th {\n",
       "        vertical-align: top;\n",
       "    }\n",
       "\n",
       "    .dataframe thead th {\n",
       "        text-align: right;\n",
       "    }\n",
       "</style>\n",
       "<table border=\"1\" class=\"dataframe\">\n",
       "  <thead>\n",
       "    <tr style=\"text-align: right;\">\n",
       "      <th></th>\n",
       "      <th>grade</th>\n",
       "      <th>site</th>\n",
       "      <th>patient_id</th>\n",
       "    </tr>\n",
       "  </thead>\n",
       "  <tbody>\n",
       "    <tr>\n",
       "      <th>S01_1</th>\n",
       "      <td>1</td>\n",
       "      <td>Stanford</td>\n",
       "      <td>S01</td>\n",
       "    </tr>\n",
       "    <tr>\n",
       "      <th>S01_2</th>\n",
       "      <td>1</td>\n",
       "      <td>Stanford</td>\n",
       "      <td>S01</td>\n",
       "    </tr>\n",
       "    <tr>\n",
       "      <th>S01_3</th>\n",
       "      <td>1</td>\n",
       "      <td>Stanford</td>\n",
       "      <td>S01</td>\n",
       "    </tr>\n",
       "    <tr>\n",
       "      <th>S02_1</th>\n",
       "      <td>1</td>\n",
       "      <td>Stanford</td>\n",
       "      <td>S02</td>\n",
       "    </tr>\n",
       "    <tr>\n",
       "      <th>S02_2</th>\n",
       "      <td>1</td>\n",
       "      <td>Stanford</td>\n",
       "      <td>S02</td>\n",
       "    </tr>\n",
       "    <tr>\n",
       "      <th>...</th>\n",
       "      <td>...</td>\n",
       "      <td>...</td>\n",
       "      <td>...</td>\n",
       "    </tr>\n",
       "    <tr>\n",
       "      <th>OC27_002</th>\n",
       "      <td>1</td>\n",
       "      <td>UOP</td>\n",
       "      <td>OC27</td>\n",
       "    </tr>\n",
       "    <tr>\n",
       "      <th>OC27_003</th>\n",
       "      <td>1</td>\n",
       "      <td>UOP</td>\n",
       "      <td>OC27</td>\n",
       "    </tr>\n",
       "    <tr>\n",
       "      <th>OC28_001</th>\n",
       "      <td>1</td>\n",
       "      <td>UOP</td>\n",
       "      <td>OC28</td>\n",
       "    </tr>\n",
       "    <tr>\n",
       "      <th>OC28_002</th>\n",
       "      <td>1</td>\n",
       "      <td>UOP</td>\n",
       "      <td>OC28</td>\n",
       "    </tr>\n",
       "    <tr>\n",
       "      <th>OC28_003</th>\n",
       "      <td>1</td>\n",
       "      <td>UOP</td>\n",
       "      <td>OC28</td>\n",
       "    </tr>\n",
       "  </tbody>\n",
       "</table>\n",
       "<p>142 rows × 3 columns</p>\n",
       "</div>"
      ],
      "text/plain": [
       "          grade      site patient_id\n",
       "S01_1         1  Stanford        S01\n",
       "S01_2         1  Stanford        S01\n",
       "S01_3         1  Stanford        S01\n",
       "S02_1         1  Stanford        S02\n",
       "S02_2         1  Stanford        S02\n",
       "...         ...       ...        ...\n",
       "OC27_002      1       UOP       OC27\n",
       "OC27_003      1       UOP       OC27\n",
       "OC28_001      1       UOP       OC28\n",
       "OC28_002      1       UOP       OC28\n",
       "OC28_003      1       UOP       OC28\n",
       "\n",
       "[142 rows x 3 columns]"
      ]
     },
     "execution_count": 6,
     "metadata": {},
     "output_type": "execute_result"
    }
   ],
   "source": [
    "X_Celldensities = pd.concat([Val_Celldensities, UOP_Celldensities])\n",
    "X_Function = pd.concat([Val_Function, UOP_Function])\n",
    "X_Metavariables = pd.concat([Val_Metavariables, UOP_Metavariables])\n",
    "X_Neighborhood = pd.concat([Val_Neighborhood, UOP_Neighborhood])\n",
    "y = pd.concat([Val_y, UOP_y])\n",
    "y['patient_id'] = y.index.str.split('_').str.get(0)\n",
    "\n",
    "data = {\n",
    "    'Celldensities': X_Celldensities,\n",
    "    'Function': X_Function,\n",
    "    'Metavariables': X_Metavariables,\n",
    "    'Neighborhood': X_Neighborhood\n",
    "}\n",
    "y"
   ]
  },
  {
   "cell_type": "code",
   "execution_count": 7,
   "id": "7cd947b6",
   "metadata": {},
   "outputs": [],
   "source": [
    "from scipy.stats import ttest_ind, mannwhitneyu\n",
    "\n",
    "for key, df in data.items():\n",
    "    univariate = pd.DataFrame()\n",
    "    for column in df.select_dtypes(include=['float64', 'int64']):\n",
    "        x = df[column].dropna()\n",
    "        outcome = y.loc[x.index, 'grade']\n",
    "        \n",
    "        group1 = x[outcome == 1]  # Values in x corresponding to y.grade == 1\n",
    "        group2 = x[outcome == 2]  # Values in x corresponding to y.grade == 2\n",
    "        \n",
    "        statistic, p_value_ttest = ttest_ind(group1, group2)\n",
    "        statistic, p_value_mannwhitneyu = mannwhitneyu(group1, group2)\n",
    "        univariate.loc[column, 'Statistic'] = statistic\n",
    "        univariate.loc[column, 'p-value ttest'] = p_value_ttest\n",
    "        univariate.loc[column, 'p-value mannwhitney'] = p_value_mannwhitneyu\n",
    "\n",
    "    filename = f'univariate_results_{key}.csv'\n",
    "    univariate.to_csv(filename)"
   ]
  },
  {
   "cell_type": "markdown",
   "id": "28063bba",
   "metadata": {},
   "source": [
    "# Results folder"
   ]
  },
  {
   "cell_type": "code",
   "execution_count": null,
   "id": "cc4081b0",
   "metadata": {},
   "outputs": [],
   "source": [
    "result_folder = \"./Modelonalldata\""
   ]
  },
  {
   "cell_type": "markdown",
   "id": "4b1c435a",
   "metadata": {},
   "source": [
    "# Main script"
   ]
  },
  {
   "cell_type": "code",
   "execution_count": 8,
   "id": "07147cc7",
   "metadata": {},
   "outputs": [],
   "source": [
    "groups = y.patient_id\n",
    "outer_groups = groups.to_numpy().flatten()\n",
    "\n",
    "outcome = y.grade-1"
   ]
  },
  {
   "cell_type": "code",
   "execution_count": null,
   "id": "7bfc0d85-6bbc-4f61-8d51-a99eae4bbeae",
   "metadata": {},
   "outputs": [],
   "source": [
    "for omic_name, X_omic in data.items():\n",
    "    X_omic = remove_low_info_samples(X_omic)\n",
    "    data[omic_name] = X_omic"
   ]
  },
  {
   "cell_type": "code",
   "execution_count": null,
   "id": "7f2a67d6",
   "metadata": {},
   "outputs": [],
   "source": [
    "stabl = Stabl(\n",
    "    lambda_name='C',\n",
    "    lambda_grid=np.linspace(0.01, 5, 10),\n",
    "    n_bootstraps=500,\n",
    "    artificial_type=\"random_permutation\",\n",
    "    artificial_proportion=1.,\n",
    "    replace=False,\n",
    "    fdr_threshold_range=np.arange(0.2, 1, 0.01),\n",
    "    sample_fraction=.5,\n",
    "    random_state=111\n",
    " )\n",
    "\n",
    "outer_splitter =  LeaveOneGroupOut()\n",
    "\n",
    "stability_selection = clone(stabl).set_params(artificial_type=None, hard_threshold=0.5)"
   ]
  },
  {
   "cell_type": "markdown",
   "id": "2640444c",
   "metadata": {
    "tags": []
   },
   "source": [
    "# Multi-omic Training-CV"
   ]
  },
  {
   "cell_type": "code",
   "execution_count": null,
   "id": "297caa1a-fe10-49c7-98ee-292b89405ecf",
   "metadata": {
    "tags": []
   },
   "outputs": [],
   "source": [
    "np.random.seed(111)"
   ]
  },
  {
   "cell_type": "code",
   "execution_count": null,
   "id": "2303737a",
   "metadata": {
    "scrolled": true,
    "tags": []
   },
   "outputs": [],
   "source": [
    "predictions_dict = multi_omic_stabl_cv(\n",
    "    data_dict=data,\n",
    "    y=outcome,\n",
    "    outer_splitter=outer_splitter,\n",
    "    stabl=stabl,\n",
    "    stability_selection=stability_selection,\n",
    "    task_type=\"binary\",\n",
    "    save_path=Path(result_folder),\n",
    "    outer_groups=outer_groups\n",
    ")"
   ]
  },
  {
   "cell_type": "markdown",
   "id": "9ed9b41b-c67e-4d7e-a09b-d82d3743a845",
   "metadata": {},
   "source": [
    "# Features Table"
   ]
  },
  {
   "cell_type": "code",
   "execution_count": null,
   "id": "8a49ba4b",
   "metadata": {},
   "outputs": [],
   "source": [
    "selected_features_dict = dict()\n",
    "for model in [\"STABL\", \"EF Lasso\", \"SS 03\", \"SS 05\", \"SS 08\"]:\n",
    "    path = Path(result_folder, \"Training-Validation\", f\"{model} coefficients.csv\")\n",
    "    try:\n",
    "        selected_features_dict[model] = list(pd.read_csv(path, index_col=0).iloc[:, 0].index)\n",
    "    except:\n",
    "        selected_features_dict[model] = []"
   ]
  },
  {
   "cell_type": "code",
   "execution_count": null,
   "id": "75bbd394",
   "metadata": {},
   "outputs": [],
   "source": [
    "features_table = compute_features_table(\n",
    "    selected_features_dict,\n",
    "    X_train=pd.concat(train_data_dict.values(), axis=1),\n",
    "    y_train=train_outcome,\n",
    "    task_type=\"binary\"\n",
    ")"
   ]
  },
  {
   "cell_type": "code",
   "execution_count": null,
   "id": "07ccb4d7-fa88-49a1-a62f-5965af9ff99c",
   "metadata": {
    "tags": []
   },
   "outputs": [],
   "source": [
    "features_table.to_csv(Path(result_folder, \"Training-Validation\", \"Table of features.csv\"))"
   ]
  }
 ],
 "metadata": {
  "instance_type": "ml.c5.4xlarge",
  "kernelspec": {
   "display_name": "Python 3 (ipykernel)",
   "language": "python",
   "name": "python3"
  },
  "language_info": {
   "codemirror_mode": {
    "name": "ipython",
    "version": 3
   },
   "file_extension": ".py",
   "mimetype": "text/x-python",
   "name": "python",
   "nbconvert_exporter": "python",
   "pygments_lexer": "ipython3",
   "version": "3.9.12"
  },
  "lcc_arn": "arn:aws:sagemaker:us-east-1:011021124722:studio-lifecycle-config/pip-install-kernel",
  "toc": {
   "base_numbering": 1,
   "nav_menu": {},
   "number_sections": true,
   "sideBar": true,
   "skip_h1_title": false,
   "title_cell": "Table of Contents",
   "title_sidebar": "Contents",
   "toc_cell": false,
   "toc_position": {
    "height": "calc(100% - 180px)",
    "left": "10px",
    "top": "150px",
    "width": "384px"
   },
   "toc_section_display": true,
   "toc_window_display": true
  }
 },
 "nbformat": 4,
 "nbformat_minor": 5
}
