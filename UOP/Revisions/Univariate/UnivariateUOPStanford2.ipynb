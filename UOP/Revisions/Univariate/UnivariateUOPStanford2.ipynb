{
 "cells": [
  {
   "cell_type": "code",
   "execution_count": 4,
   "metadata": {},
   "outputs": [],
   "source": [
    "import numpy as np\n",
    "import pandas as pd\n",
    "from scipy.stats import zscore"
   ]
  },
  {
   "cell_type": "code",
   "execution_count": 11,
   "metadata": {},
   "outputs": [],
   "source": [
    "UOP_Celldensities =     pd.read_csv('../DataUOP/UOPfinal_celldensities.csv', index_col=0)\n",
    "UOP_Function =          pd.read_csv('../DataUOP/UOPfinal_functional.csv', index_col=0)\n",
    "UOP_Metavariables =     pd.read_csv('../DataUOP/UOPfinal_metavariables.csv', index_col=0)\n",
    "UOP_Neighborhood =      pd.read_csv('../DataUOP/UOPfinal_neighborhood.csv', index_col=0)\n",
    "\n",
    "UOP_data = {\n",
    "    'UOP_Celldensities': UOP_Celldensities,\n",
    "    'UOP_Function': UOP_Function,\n",
    "    'UOP_Metavariables': UOP_Metavariables,\n",
    "    'UOP_Neighborhood': UOP_Neighborhood\n",
    "}\n",
    "\n",
    "UOP_y = pd.read_csv('../DataUOP/UOPfinal_outcome.csv',index_col=0)\n",
    "UOP_y = UOP_y.grade-1"
   ]
  },
  {
   "cell_type": "code",
   "execution_count": 12,
   "metadata": {},
   "outputs": [],
   "source": [
    "from scipy.stats import ttest_ind, mannwhitneyu\n",
    "\n",
    "for key, df in UOP_data.items():\n",
    "    univariate = pd.DataFrame()\n",
    "    for column in df.select_dtypes(include=['float64', 'int64']):\n",
    "        x = df[column].dropna()\n",
    "        outcome = UOP_y\n",
    "        \n",
    "        group1 = x[outcome == 0]  # Values in x corresponding to y.grade == 1\n",
    "        group2 = x[outcome == 1]  # Values in x corresponding to y.grade == 2\n",
    "        \n",
    "        meandifference = group2.mean() - group1.mean()\n",
    "        statistic, p_value_ttest = ttest_ind(group1, group2)\n",
    "        statistic, p_value_mannwhitneyu = mannwhitneyu(group1, group2)\n",
    "        univariate.loc[column, 'Statistic'] = statistic\n",
    "        univariate.loc[column, 'meandifference higher-lower'] = meandifference\n",
    "        univariate.loc[column, 'p-value ttest'] = p_value_ttest\n",
    "        univariate.loc[column, 'p-value mannwhitneyu'] = p_value_mannwhitneyu\n",
    "\n",
    "    filename = f'univariate_results_{key}.csv'\n",
    "    univariate.to_csv(filename)"
   ]
  },
  {
   "cell_type": "code",
   "execution_count": 13,
   "metadata": {},
   "outputs": [],
   "source": [
    "STA_Celldensities =     pd.read_csv('../DataStanford2/another_STA_celldensities.csv', index_col=0)\n",
    "STA_Function =          pd.read_csv('../DataStanford2/another_STA_functional.csv', index_col=0)\n",
    "STA_Metavariables =     pd.read_csv('../DataStanford2/another_STA_metavariables.csv', index_col=0)\n",
    "STA_Neighborhood =      pd.read_csv('../DataStanford2/another_STA_neighborhood.csv', index_col=0)\n",
    "\n",
    "STA_data = {\n",
    "    'STA_Celldensities': STA_Celldensities,\n",
    "    'STA_Function': STA_Function,\n",
    "    'STA_Metavariables': STA_Metavariables,\n",
    "    'STA_Neighborhood': STA_Neighborhood\n",
    "}\n",
    "\n",
    "STA_y = pd.read_csv('../DataStanford2/another_STA_outcome.csv',index_col=0)\n",
    "STA_y = STA_y.grade-1"
   ]
  },
  {
   "cell_type": "code",
   "execution_count": 14,
   "metadata": {},
   "outputs": [],
   "source": [
    "from scipy.stats import ttest_ind, mannwhitneyu\n",
    "\n",
    "for key, df in STA_data.items():\n",
    "    univariate = pd.DataFrame()\n",
    "    for column in df.select_dtypes(include=['float64', 'int64']):\n",
    "        x = df[column].dropna()\n",
    "        outcome = STA_y\n",
    "        \n",
    "        group1 = x[outcome == 0]  # Values in x corresponding to y.grade == 1\n",
    "        group2 = x[outcome == 1]  # Values in x corresponding to y.grade == 2\n",
    "        \n",
    "        meandifference = group2.mean() - group1.mean()\n",
    "        statistic, p_value_ttest = ttest_ind(group1, group2)\n",
    "        statistic, p_value_mannwhitneyu = mannwhitneyu(group1, group2)\n",
    "        univariate.loc[column, 'Statistic'] = statistic\n",
    "        univariate.loc[column, 'meandifference higher-lower'] = meandifference\n",
    "        univariate.loc[column, 'p-value ttest'] = p_value_ttest\n",
    "        univariate.loc[column, 'p-value mannwhitneyu'] = p_value_mannwhitneyu\n",
    "\n",
    "    filename = f'univariate_results_{key}.csv'\n",
    "    univariate.to_csv(filename)"
   ]
  }
 ],
 "metadata": {
  "kernelspec": {
   "display_name": "Python 3",
   "language": "python",
   "name": "python3"
  },
  "language_info": {
   "codemirror_mode": {
    "name": "ipython",
    "version": 3
   },
   "file_extension": ".py",
   "mimetype": "text/x-python",
   "name": "python",
   "nbconvert_exporter": "python",
   "pygments_lexer": "ipython3",
   "version": "3.9.12"
  },
  "orig_nbformat": 4
 },
 "nbformat": 4,
 "nbformat_minor": 2
}
