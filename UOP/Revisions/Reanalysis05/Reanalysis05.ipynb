{
 "cells": [
  {
   "cell_type": "code",
   "execution_count": 1,
   "id": "70b05fe2",
   "metadata": {},
   "outputs": [],
   "source": [
    "import warnings\n",
    "warnings.filterwarnings('ignore')"
   ]
  },
  {
   "attachments": {},
   "cell_type": "markdown",
   "id": "4988b56c",
   "metadata": {},
   "source": [
    "# Libraries"
   ]
  },
  {
   "cell_type": "code",
   "execution_count": 2,
   "id": "9db18265",
   "metadata": {},
   "outputs": [],
   "source": [
    "import numpy as np\n",
    "import pandas as pd\n",
    "from pathlib import Path\n",
    "from scipy.stats import zscore\n",
    "from sklearn.model_selection import train_test_split"
   ]
  },
  {
   "cell_type": "code",
   "execution_count": null,
   "id": "ed777ae1",
   "metadata": {},
   "outputs": [],
   "source": [
    "from sklearn.model_selection import RepeatedStratifiedKFold\n",
    "from sklearn.base import clone\n",
    "from sklearn.linear_model import Lasso\n",
    "\n",
    "from stabl.stabl import Stabl, plot_stabl_path, plot_fdr_graph, save_stabl_results, export_stabl_to_csv\n",
    "from stabl.preprocessing import LowInfoFilter, remove_low_info_samples\n",
    "\n",
    "%config InlineBackend.figure_formats=['retina']"
   ]
  },
  {
   "cell_type": "code",
   "execution_count": null,
   "id": "ebdae33c",
   "metadata": {},
   "outputs": [],
   "source": [
    "from stabl.multi_omic_pipelines import multi_omic_stabl, multi_omic_stabl_cv, late_fusion_lasso_cv\n",
    "from stabl.single_omic_pipelines import single_omic_stabl, single_omic_stabl_cv\n",
    "from stabl.pipelines_utils import compute_features_table"
   ]
  },
  {
   "attachments": {},
   "cell_type": "markdown",
   "id": "9f9ba553",
   "metadata": {},
   "source": [
    "# Data"
   ]
  },
  {
   "cell_type": "code",
   "execution_count": 3,
   "id": "f8eb82b3",
   "metadata": {},
   "outputs": [],
   "source": [
    "UOP_Celldensities =     pd.read_csv('../DataUOPReanalysis/UOPreanalysis_celldensities.csv', index_col=0)\n",
    "UOP_Function =          pd.read_csv('../DataUOPReanalysis/UOPreanalysis_functional.csv', index_col=0)\n",
    "UOP_Metavariables =     pd.read_csv('../DataUOPReanalysis/UOPreanalysis_metavariables.csv', index_col=0)\n",
    "UOP_Neighborhood =      pd.read_csv('../DataUOPReanalysis/UOPreanalysis_neighborhood.csv', index_col=0)\n",
    "\n",
    "UOP_data = {\n",
    "    'UOP_Celldensities': UOP_Celldensities,\n",
    "    'UOP_Function': UOP_Function,\n",
    "    'UOP_Metavariables': UOP_Metavariables,\n",
    "    'UOP_Neighborhood': UOP_Neighborhood\n",
    "}\n",
    "\n",
    "for data_name, data_frame in UOP_data.items():\n",
    "    numeric_columns = data_frame.select_dtypes(include=['float64', 'int64']).columns\n",
    "    UOP_data[data_name][numeric_columns] = UOP_data[data_name][numeric_columns].apply(zscore)\n",
    "\n",
    "UOP_y = pd.read_csv('../DataUOPReanalysis/UOPreanalysis_outcome.csv',index_col=0)\n",
    "UOP_y = UOP_y.grade-1"
   ]
  },
  {
   "cell_type": "code",
   "execution_count": 4,
   "id": "82cbb5fd",
   "metadata": {},
   "outputs": [],
   "source": [
    "# Compute mean and standard deviation for each data layer in UOP_data\n",
    "train_means = {}\n",
    "train_stds = {}\n",
    "for data_name, data_frame in UOP_data.items():\n",
    "    numeric_columns = data_frame.select_dtypes(include=['float64', 'int64']).columns\n",
    "    train_means[data_name] = data_frame[numeric_columns].mean()\n",
    "    train_stds[data_name] = data_frame[numeric_columns].std()\n"
   ]
  },
  {
   "cell_type": "code",
   "execution_count": 6,
   "id": "c8865975",
   "metadata": {
    "scrolled": true
   },
   "outputs": [],
   "source": [
    "STA_Celldensities =     pd.read_csv('../DataStanford2/another_STA_celldensities.csv', index_col=0)\n",
    "STA_Function =          pd.read_csv('../DataStanford2/another_STA_functional.csv', index_col=0)\n",
    "STA_Metavariables =     pd.read_csv('../DataStanford2/another_STA_metavariables.csv', index_col=0)\n",
    "STA_Neighborhood =      pd.read_csv('../DataStanford2/another_STA_neighborhood.csv', index_col=0)\n",
    "\n",
    "STA_data = {\n",
    "    'STA_Celldensities': STA_Celldensities,\n",
    "    'STA_Function': STA_Function,\n",
    "    'STA_Metavariables': STA_Metavariables,\n",
    "    'STA_Neighborhood': STA_Neighborhood\n",
    "}\n",
    "\n",
    "# Normalize each data layer in STA_data using the mean and standard deviation from UOP_data\n",
    "for data_name, data_frame in STA_data.items():\n",
    "    if data_name in UOP_data:\n",
    "        numeric_columns = data_frame.select_dtypes(include=['float64', 'int64']).columns\n",
    "        data_frame[numeric_columns] = (data_frame[numeric_columns] - train_means[data_name]) / train_stds[data_name]\n",
    "\n",
    "STA_y = pd.read_csv('../DataStanford2/another_STA_outcome.csv',index_col=0)\n",
    "STA_y = STA_y.grade-1"
   ]
  },
  {
   "cell_type": "code",
   "execution_count": 7,
   "id": "c2128ec9",
   "metadata": {},
   "outputs": [],
   "source": [
    "train_data_dict = UOP_data\n",
    "test_data_dict = STA_data"
   ]
  },
  {
   "attachments": {},
   "cell_type": "markdown",
   "id": "28063bba",
   "metadata": {},
   "source": [
    "# Results folder"
   ]
  },
  {
   "cell_type": "code",
   "execution_count": null,
   "id": "cc4081b0",
   "metadata": {},
   "outputs": [],
   "source": [
    "result_folder = \"./Attempt05\""
   ]
  },
  {
   "attachments": {},
   "cell_type": "markdown",
   "id": "4b1c435a",
   "metadata": {},
   "source": [
    "# Main script"
   ]
  },
  {
   "cell_type": "code",
   "execution_count": null,
   "id": "7bfc0d85-6bbc-4f61-8d51-a99eae4bbeae",
   "metadata": {},
   "outputs": [],
   "source": [
    "for omic_name, X_omic in train_data_dict.items():\n",
    "    X_omic = remove_low_info_samples(X_omic)\n",
    "    train_data_dict[omic_name] = X_omic"
   ]
  },
  {
   "cell_type": "code",
   "execution_count": null,
   "id": "7f2a67d6",
   "metadata": {},
   "outputs": [],
   "source": [
    "stabl = Stabl(\n",
    "    lambda_name='C',\n",
    "    lambda_grid=np.linspace(0.01, 5, 10),\n",
    "    n_bootstraps=500,\n",
    "    artificial_type=\"knockoff\",\n",
    "    artificial_proportion=1.,\n",
    "    replace=False,\n",
    "    fdr_threshold_range=np.arange(0.2, 1, 0.01),\n",
    "    sample_fraction=.7,\n",
    "    random_state=111\n",
    " )\n",
    "\n",
    "outer_splitter = RepeatedStratifiedKFold(n_splits=5, n_repeats=20, random_state=1)\n",
    "\n",
    "stability_selection = clone(stabl).set_params(artificial_type=None, hard_threshold=0.5)"
   ]
  },
  {
   "attachments": {},
   "cell_type": "markdown",
   "id": "2640444c",
   "metadata": {
    "tags": []
   },
   "source": [
    "# Multi-omic Training-CV"
   ]
  },
  {
   "cell_type": "code",
   "execution_count": null,
   "id": "297caa1a-fe10-49c7-98ee-292b89405ecf",
   "metadata": {
    "tags": []
   },
   "outputs": [],
   "source": [
    "np.random.seed(111)"
   ]
  },
  {
   "cell_type": "code",
   "execution_count": null,
   "id": "2303737a",
   "metadata": {
    "scrolled": true,
    "tags": []
   },
   "outputs": [],
   "source": [
    "predictions_dict = multi_omic_stabl_cv(\n",
    "    data_dict=train_data_dict,\n",
    "    y=UOP_y,\n",
    "    outer_splitter=outer_splitter,\n",
    "    stabl=stabl,\n",
    "    stability_selection=stability_selection,\n",
    "    task_type=\"binary\",\n",
    "    save_path=Path(result_folder)\n",
    ")"
   ]
  },
  {
   "attachments": {},
   "cell_type": "markdown",
   "id": "ead591b3",
   "metadata": {},
   "source": [
    "# Multiomic Training to derive coefficients"
   ]
  },
  {
   "cell_type": "code",
   "execution_count": null,
   "id": "1494dd1d",
   "metadata": {},
   "outputs": [],
   "source": [
    "np.random.seed(111)"
   ]
  },
  {
   "cell_type": "code",
   "execution_count": null,
   "id": "df1550c7",
   "metadata": {},
   "outputs": [],
   "source": [
    "stabl_multi = Stabl(\n",
    "    lambda_grid=np.linspace(0.01, 5, 30),\n",
    "    n_bootstraps=5000,\n",
    "    artificial_proportion=1.,\n",
    "    artificial_type=\"knockoff\",\n",
    "    hard_threshold=None,\n",
    "    replace=False,\n",
    "    fdr_threshold_range=np.arange(0.2, 1, 0.01),\n",
    "    sample_fraction=.7,\n",
    "    random_state=111\n",
    ")\n",
    "\n",
    "stability_selection = clone(stabl_multi).set_params(artificial_type=None, hard_threshold=.3)"
   ]
  },
  {
   "cell_type": "code",
   "execution_count": null,
   "id": "e066a553",
   "metadata": {},
   "outputs": [],
   "source": [
    "predictions_dict = multi_omic_stabl(\n",
    "    data_dict=train_data_dict,\n",
    "    y=UOP_y,\n",
    "    stabl=stabl_multi,\n",
    "    stability_selection=stability_selection,\n",
    "    task_type=\"binary\",\n",
    "    save_path=Path(result_folder),\n",
    "    X_test=pd.concat(test_data_dict.values(),axis=1),\n",
    "    y_test=STA_y\n",
    ")"
   ]
  },
  {
   "attachments": {},
   "cell_type": "markdown",
   "id": "9ed9b41b-c67e-4d7e-a09b-d82d3743a845",
   "metadata": {},
   "source": [
    "# Features Table"
   ]
  },
  {
   "cell_type": "code",
   "execution_count": null,
   "id": "8a49ba4b",
   "metadata": {},
   "outputs": [],
   "source": [
    "selected_features_dict = dict()\n",
    "for model in [\"STABL\", \"EF Lasso\", \"SS 03\", \"SS 05\", \"SS 08\"]:\n",
    "    path = Path(result_folder, \"Training-Validation\", f\"{model} coefficients.csv\")\n",
    "    try:\n",
    "        selected_features_dict[model] = list(pd.read_csv(path, index_col=0).iloc[:, 0].index)\n",
    "    except:\n",
    "        selected_features_dict[model] = []"
   ]
  },
  {
   "cell_type": "code",
   "execution_count": null,
   "id": "75bbd394",
   "metadata": {},
   "outputs": [],
   "source": [
    "features_table = compute_features_table(\n",
    "    selected_features_dict,\n",
    "    X_train=pd.concat(train_data_dict.values(), axis=1),\n",
    "    y_train=UOP_y,\n",
    "    task_type=\"binary\"\n",
    ")"
   ]
  },
  {
   "cell_type": "code",
   "execution_count": null,
   "id": "07ccb4d7-fa88-49a1-a62f-5965af9ff99c",
   "metadata": {
    "tags": []
   },
   "outputs": [],
   "source": [
    "features_table.to_csv(Path(result_folder, \"Training-Validation\", \"Table of features.csv\"))"
   ]
  }
 ],
 "metadata": {
  "instance_type": "ml.c5.4xlarge",
  "kernelspec": {
   "display_name": "Python 3 (ipykernel)",
   "language": "python",
   "name": "python3"
  },
  "language_info": {
   "codemirror_mode": {
    "name": "ipython",
    "version": 3
   },
   "file_extension": ".py",
   "mimetype": "text/x-python",
   "name": "python",
   "nbconvert_exporter": "python",
   "pygments_lexer": "ipython3",
   "version": "3.9.12"
  },
  "lcc_arn": "arn:aws:sagemaker:us-east-1:011021124722:studio-lifecycle-config/pip-install-kernel",
  "toc": {
   "base_numbering": 1,
   "nav_menu": {},
   "number_sections": true,
   "sideBar": true,
   "skip_h1_title": false,
   "title_cell": "Table of Contents",
   "title_sidebar": "Contents",
   "toc_cell": false,
   "toc_position": {
    "height": "calc(100% - 180px)",
    "left": "10px",
    "top": "150px",
    "width": "384px"
   },
   "toc_section_display": true,
   "toc_window_display": true
  }
 },
 "nbformat": 4,
 "nbformat_minor": 5
}
