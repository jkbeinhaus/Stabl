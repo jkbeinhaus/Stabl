{
 "cells": [
  {
   "cell_type": "code",
   "execution_count": null,
   "id": "70b05fe2",
   "metadata": {},
   "outputs": [],
   "source": [
    "import warnings\n",
    "warnings.filterwarnings('ignore')"
   ]
  },
  {
   "cell_type": "markdown",
   "id": "4988b56c",
   "metadata": {},
   "source": [
    "# Libraries"
   ]
  },
  {
   "cell_type": "code",
   "execution_count": 2,
   "id": "ed777ae1",
   "metadata": {},
   "outputs": [
    {
     "ename": "ModuleNotFoundError",
     "evalue": "No module named 'stabl'",
     "output_type": "error",
     "traceback": [
      "\u001b[0;31m---------------------------------------------------------------------------\u001b[0m",
      "\u001b[0;31mModuleNotFoundError\u001b[0m                       Traceback (most recent call last)",
      "\u001b[0;32m/var/folders/yw/jrjtbzm57tbfg8vxk7g41v9h0000gp/T/ipykernel_68421/1830450651.py\u001b[0m in \u001b[0;36m<cell line: 10>\u001b[0;34m()\u001b[0m\n\u001b[1;32m      8\u001b[0m \u001b[0;32mfrom\u001b[0m \u001b[0msklearn\u001b[0m\u001b[0;34m.\u001b[0m\u001b[0mlinear_model\u001b[0m \u001b[0;32mimport\u001b[0m \u001b[0mLasso\u001b[0m\u001b[0;34m\u001b[0m\u001b[0;34m\u001b[0m\u001b[0m\n\u001b[1;32m      9\u001b[0m \u001b[0;34m\u001b[0m\u001b[0m\n\u001b[0;32m---> 10\u001b[0;31m \u001b[0;32mfrom\u001b[0m \u001b[0mstabl\u001b[0m\u001b[0;34m.\u001b[0m\u001b[0mstabl\u001b[0m \u001b[0;32mimport\u001b[0m \u001b[0mStabl\u001b[0m\u001b[0;34m,\u001b[0m \u001b[0mplot_stabl_path\u001b[0m\u001b[0;34m,\u001b[0m \u001b[0mplot_fdr_graph\u001b[0m\u001b[0;34m,\u001b[0m \u001b[0msave_stabl_results\u001b[0m\u001b[0;34m,\u001b[0m \u001b[0mexport_stabl_to_csv\u001b[0m\u001b[0;34m\u001b[0m\u001b[0;34m\u001b[0m\u001b[0m\n\u001b[0m\u001b[1;32m     11\u001b[0m \u001b[0;32mfrom\u001b[0m \u001b[0mstabl\u001b[0m\u001b[0;34m.\u001b[0m\u001b[0mpreprocessing\u001b[0m \u001b[0;32mimport\u001b[0m \u001b[0mLowInfoFilter\u001b[0m\u001b[0;34m,\u001b[0m \u001b[0mremove_low_info_samples\u001b[0m\u001b[0;34m\u001b[0m\u001b[0;34m\u001b[0m\u001b[0m\n\u001b[1;32m     12\u001b[0m \u001b[0;34m\u001b[0m\u001b[0m\n",
      "\u001b[0;31mModuleNotFoundError\u001b[0m: No module named 'stabl'"
     ]
    }
   ],
   "source": [
    "import numpy as np\n",
    "import pandas as pd\n",
    "from pathlib import Path\n",
    "\n",
    "from sklearn.model_selection import LeaveOneGroupOut\n",
    "from sklearn.model_selection import RepeatedStratifiedKFold\n",
    "from sklearn.base import clone\n",
    "from sklearn.linear_model import Lasso\n",
    "\n",
    "from stabl.stabl import Stabl, plot_stabl_path, plot_fdr_graph, save_stabl_results, export_stabl_to_csv\n",
    "from stabl.preprocessing import LowInfoFilter, remove_low_info_samples\n",
    "\n",
    "%config InlineBackend.figure_formats=['retina']"
   ]
  },
  {
   "cell_type": "code",
   "execution_count": null,
   "id": "ebdae33c",
   "metadata": {},
   "outputs": [],
   "source": [
    "from stabl.multi_omic_pipelines import multi_omic_stabl, multi_omic_stabl_cv, late_fusion_lasso_cv\n",
    "from stabl.single_omic_pipelines import single_omic_stabl, single_omic_stabl_cv\n",
    "from stabl.pipelines_utils import compute_features_table"
   ]
  },
  {
   "cell_type": "markdown",
   "id": "9f9ba553",
   "metadata": {},
   "source": [
    "# Data"
   ]
  },
  {
   "cell_type": "code",
   "execution_count": null,
   "id": "c8865975",
   "metadata": {
    "scrolled": true
   },
   "outputs": [],
   "source": [
    "X_Celldensities = pd.read_csv('./UOPfinal_celldensities.csv',index_col=0)\n",
    "X_Function = pd.read_csv('./UOPfinal_functional.csv',index_col=0)\n",
    "X_Metavariables = pd.read_csv('./UOPfinal_metavariables.csv',index_col=0)\n",
    "X_Neighborhood = pd.read_csv('./UOPfinal_neighborhood.csv',index_col=0)\n",
    "\n",
    "y = pd.read_csv('./UOPfinal_outcome.csv',index_col=0)\n",
    "y = y.grade-1"
   ]
  },
  {
   "cell_type": "code",
   "execution_count": null,
   "id": "d4310a66",
   "metadata": {},
   "outputs": [],
   "source": [
    "train_data_dict = {\n",
    "    \"Celldensities\": X_Celldensities, \n",
    "    \"Function\": X_Function,\n",
    "    \"Neighborhood\": X_Neighborhood,\n",
    "    \"Metavariables\": X_Metavariables\n",
    "    }"
   ]
  },
  {
   "attachments": {},
   "cell_type": "markdown",
   "id": "ebd0e3a6",
   "metadata": {},
   "source": [
    "# Define Leave-one-patient-out CV"
   ]
  },
  {
   "cell_type": "code",
   "execution_count": 5,
   "id": "20390228",
   "metadata": {},
   "outputs": [
    {
     "data": {
      "text/plain": [
       "array([ 1,  1,  1,  2,  2,  3,  3,  3,  4,  4,  4,  5,  5,  5,  6,  6,  6,\n",
       "        7,  7,  7,  8,  8,  8,  9,  9,  9, 10, 10, 10, 11, 11, 11, 12, 12,\n",
       "       12, 13, 13, 13, 17, 17, 17, 18, 18, 18, 19, 19, 19, 20, 20, 20, 21,\n",
       "       21, 21, 22, 22, 22, 24, 24, 24, 25, 25, 25, 26, 26, 26, 27, 27, 27,\n",
       "       28, 28, 28])"
      ]
     },
     "execution_count": 5,
     "metadata": {},
     "output_type": "execute_result"
    }
   ],
   "source": [
    "patient_groups = pd.read_csv('./UOPfinal_patient_groups.csv', index_col=0)"
   ]
  },
  {
   "cell_type": "markdown",
   "id": "28063bba",
   "metadata": {},
   "source": [
    "# Results folder"
   ]
  },
  {
   "cell_type": "code",
   "execution_count": null,
   "id": "cc4081b0",
   "metadata": {},
   "outputs": [],
   "source": [
    "result_folder = \"./Results UOPStabilitySelection\""
   ]
  },
  {
   "cell_type": "markdown",
   "id": "4b1c435a",
   "metadata": {},
   "source": [
    "# Main script"
   ]
  },
  {
   "cell_type": "code",
   "execution_count": null,
   "id": "7bfc0d85-6bbc-4f61-8d51-a99eae4bbeae",
   "metadata": {},
   "outputs": [],
   "source": [
    "for omic_name, X_omic in train_data_dict.items():\n",
    "    X_omic = remove_low_info_samples(X_omic)\n",
    "    train_data_dict[omic_name] = X_omic"
   ]
  },
  {
   "cell_type": "code",
   "execution_count": null,
   "id": "7f2a67d6",
   "metadata": {},
   "outputs": [],
   "source": [
    "stabl = Stabl(\n",
    "    lambda_name='C',\n",
    "    lambda_grid=np.linspace(0.01, 5, 10),\n",
    "    n_bootstraps=500,\n",
    "    artificial_type=\"random_permutation\",\n",
    "    artificial_proportion=1.,\n",
    "    replace=False,\n",
    "    fdr_threshold_range=np.arange(0.2, 1, 0.01),\n",
    "    sample_fraction=.5,\n",
    "    random_state=11\n",
    " )\n",
    "\n",
    "outer_splitter = LeaveOneGroupOut()\n",
    "\n",
    "stability_selection = clone(stabl).set_params(artificial_type=None, hard_threshold=0.3)"
   ]
  },
  {
   "cell_type": "markdown",
   "id": "2640444c",
   "metadata": {
    "tags": []
   },
   "source": [
    "# Multi-omic Training-CV"
   ]
  },
  {
   "cell_type": "code",
   "execution_count": null,
   "id": "297caa1a-fe10-49c7-98ee-292b89405ecf",
   "metadata": {
    "tags": []
   },
   "outputs": [],
   "source": [
    "np.random.seed(11)"
   ]
  },
  {
   "cell_type": "code",
   "execution_count": null,
   "id": "2303737a",
   "metadata": {
    "scrolled": true,
    "tags": []
   },
   "outputs": [],
   "source": [
    "predictions_dict = multi_omic_stabl_cv(\n",
    "    data_dict=train_data_dict,\n",
    "    y=y,\n",
    "    outer_splitter=outer_splitter,\n",
    "    stabl=stabl,\n",
    "    stability_selection=stability_selection,\n",
    "    task_type=\"binary\",\n",
    "    save_path=Path(result_folder),\n",
    "    outer_groups=patient_groups\n",
    ")"
   ]
  },
  {
   "attachments": {},
   "cell_type": "markdown",
   "id": "ead591b3",
   "metadata": {},
   "source": [
    "# Multiomic Training to derive coefficients"
   ]
  },
  {
   "cell_type": "code",
   "execution_count": null,
   "id": "1494dd1d",
   "metadata": {},
   "outputs": [],
   "source": [
    "np.random.seed(11)"
   ]
  },
  {
   "cell_type": "code",
   "execution_count": null,
   "id": "df1550c7",
   "metadata": {},
   "outputs": [],
   "source": [
    "stabl_multi = Stabl(\n",
    "    lambda_grid=np.linspace(0.01, 5, 30),\n",
    "    n_bootstraps=5000,\n",
    "    artificial_proportion=1.,\n",
    "    artificial_type=\"random_permutation\",\n",
    "    hard_threshold=None,\n",
    "    replace=False,\n",
    "    fdr_threshold_range=np.arange(0.2, 1, 0.01),\n",
    "    sample_fraction=.5,\n",
    "    random_state=11\n",
    ")\n",
    "\n",
    "stability_selection = clone(stabl_multi).set_params(artificial_type=None, hard_threshold=.3)"
   ]
  },
  {
   "cell_type": "code",
   "execution_count": null,
   "id": "e066a553",
   "metadata": {},
   "outputs": [],
   "source": [
    "predictions_dict = multi_omic_stabl(\n",
    "    data_dict=train_data_dict,\n",
    "    y=y,\n",
    "    stabl=stabl_multi,\n",
    "    stability_selection=stability_selection,\n",
    "    task_type=\"binary\",\n",
    "    save_path=Path(result_folder),\n",
    ")"
   ]
  },
  {
   "attachments": {},
   "cell_type": "markdown",
   "id": "43fc21e8",
   "metadata": {},
   "source": [
    "# Late fusion lasso"
   ]
  },
  {
   "cell_type": "code",
   "execution_count": null,
   "id": "4ebb1a60",
   "metadata": {},
   "outputs": [],
   "source": [
    "late_fusion_lasso_cv(\n",
    "    train_data_dict=train_data_dict,\n",
    "    y=y,\n",
    "    outer_splitter=outer_splitter,\n",
    "    task_type=\"binary\",\n",
    "    save_path=result_folder,\n",
    "    groups=None\n",
    ")"
   ]
  },
  {
   "cell_type": "markdown",
   "id": "9ed9b41b-c67e-4d7e-a09b-d82d3743a845",
   "metadata": {},
   "source": [
    "# Features Table"
   ]
  },
  {
   "cell_type": "code",
   "execution_count": null,
   "id": "8a49ba4b",
   "metadata": {},
   "outputs": [],
   "source": [
    "selected_features_dict = dict()\n",
    "for model in [\"STABL\", \"EF Lasso\", \"SS 03\", \"SS 05\", \"SS 08\"]:\n",
    "    path = Path(result_folder, \"Training-Validation\", f\"{model} coefficients.csv\")\n",
    "    try:\n",
    "        selected_features_dict[model] = list(pd.read_csv(path, index_col=0).iloc[:, 0].index)\n",
    "    except:\n",
    "        selected_features_dict[model] = []"
   ]
  },
  {
   "cell_type": "code",
   "execution_count": null,
   "id": "75bbd394",
   "metadata": {},
   "outputs": [],
   "source": [
    "features_table = compute_features_table(\n",
    "    selected_features_dict,\n",
    "    X_train=pd.concat(train_data_dict.values(), axis=1),\n",
    "    y_train=y,\n",
    "    task_type=\"binary\"\n",
    ")"
   ]
  },
  {
   "cell_type": "code",
   "execution_count": null,
   "id": "07ccb4d7-fa88-49a1-a62f-5965af9ff99c",
   "metadata": {
    "tags": []
   },
   "outputs": [],
   "source": [
    "features_table.to_csv(Path(result_folder, \"Training-Validation\", \"Table of features.csv\"))"
   ]
  }
 ],
 "metadata": {
  "instance_type": "ml.c5.4xlarge",
  "kernelspec": {
   "display_name": "Python 3 (ipykernel)",
   "language": "python",
   "name": "python3"
  },
  "language_info": {
   "codemirror_mode": {
    "name": "ipython",
    "version": 3
   },
   "file_extension": ".py",
   "mimetype": "text/x-python",
   "name": "python",
   "nbconvert_exporter": "python",
   "pygments_lexer": "ipython3",
   "version": "3.9.12"
  },
  "lcc_arn": "arn:aws:sagemaker:us-east-1:011021124722:studio-lifecycle-config/pip-install-kernel",
  "toc": {
   "base_numbering": 1,
   "nav_menu": {},
   "number_sections": true,
   "sideBar": true,
   "skip_h1_title": false,
   "title_cell": "Table of Contents",
   "title_sidebar": "Contents",
   "toc_cell": false,
   "toc_position": {
    "height": "calc(100% - 180px)",
    "left": "10px",
    "top": "150px",
    "width": "384px"
   },
   "toc_section_display": true,
   "toc_window_display": true
  }
 },
 "nbformat": 4,
 "nbformat_minor": 5
}
