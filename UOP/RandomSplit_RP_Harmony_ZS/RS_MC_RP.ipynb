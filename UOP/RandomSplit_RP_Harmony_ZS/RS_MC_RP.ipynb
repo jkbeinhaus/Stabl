{
 "cells": [
  {
   "cell_type": "code",
   "execution_count": null,
   "id": "70b05fe2",
   "metadata": {},
   "outputs": [],
   "source": [
    "import warnings\n",
    "warnings.filterwarnings('ignore')"
   ]
  },
  {
   "cell_type": "markdown",
   "id": "4988b56c",
   "metadata": {},
   "source": [
    "# Libraries"
   ]
  },
  {
   "cell_type": "code",
   "execution_count": null,
   "id": "9db18265",
   "metadata": {},
   "outputs": [],
   "source": [
    "import numpy as np\n",
    "import pandas as pd\n",
    "from pathlib import Path\n",
    "from scipy.stats import zscore\n",
    "from sklearn.model_selection import train_test_split"
   ]
  },
  {
   "cell_type": "code",
   "execution_count": null,
   "id": "ed777ae1",
   "metadata": {},
   "outputs": [],
   "source": [
    "from sklearn.model_selection import RepeatedStratifiedKFold\n",
    "from sklearn.base import clone\n",
    "from sklearn.linear_model import Lasso\n",
    "\n",
    "from stabl.stabl import Stabl, plot_stabl_path, plot_fdr_graph, save_stabl_results, export_stabl_to_csv\n",
    "from stabl.preprocessing import LowInfoFilter, remove_low_info_samples\n",
    "\n",
    "%config InlineBackend.figure_formats=['retina']"
   ]
  },
  {
   "cell_type": "code",
   "execution_count": null,
   "id": "ebdae33c",
   "metadata": {},
   "outputs": [],
   "source": [
    "from stabl.multi_omic_pipelines import multi_omic_stabl, multi_omic_stabl_cv, late_fusion_lasso_cv\n",
    "from stabl.single_omic_pipelines import single_omic_stabl, single_omic_stabl_cv\n",
    "from stabl.pipelines_utils import compute_features_table"
   ]
  },
  {
   "cell_type": "markdown",
   "id": "9f9ba553",
   "metadata": {},
   "source": [
    "# Data"
   ]
  },
  {
   "cell_type": "code",
   "execution_count": null,
   "id": "c8865975",
   "metadata": {
    "scrolled": true
   },
   "outputs": [],
   "source": [
    "Celldensities =     pd.read_csv('../DataBatchcorrected/Harmony_Celldensities.csv', index_col=0)\n",
    "Function =          pd.read_csv('../DataBatchcorrected/Harmony_Function.csv', index_col=0)\n",
    "Metavariables =     pd.read_csv('../DataBatchcorrected/Harmony_Metavariables.csv', index_col=0)\n",
    "Neighborhood =      pd.read_csv('../DataBatchcorrected/Harmony_Neighborhood.csv', index_col=0)\n",
    "\n",
    "data = {\n",
    "    'Celldensities': Celldensities,\n",
    "    'Function': Function,\n",
    "    'Metavariables': Metavariables,\n",
    "    'Neighborhood': Neighborhood\n",
    "}\n",
    "\n",
    "y = pd.read_csv('../DataBatchcorrected/Outcome.csv',index_col=0)"
   ]
  },
  {
   "cell_type": "code",
   "execution_count": null,
   "id": "c2128ec9",
   "metadata": {},
   "outputs": [],
   "source": [
    "y['patient_id'] = y.index.str.split('_').str.get(0)\n",
    "y['site'] = y.index.to_series().apply(lambda x: 'Stanford' if x.startswith('S') else 'UOP')\n",
    "y"
   ]
  },
  {
   "cell_type": "code",
   "execution_count": null,
   "id": "c6ed1e7a",
   "metadata": {},
   "outputs": [],
   "source": [
    "unique_patients = pd.DataFrame(y['patient_id'].unique(), columns=['patient_id'])\n",
    "unique_patients = unique_patients.merge(y, on='patient_id', how = 'left') \n",
    "unique_patients = unique_patients.drop_duplicates(subset=['patient_id', 'grade', 'site'])\n",
    "unique_patients"
   ]
  },
  {
   "cell_type": "code",
   "execution_count": 17,
   "id": "edc249e5",
   "metadata": {},
   "outputs": [
    {
     "name": "stdout",
     "output_type": "stream",
     "text": [
      "Training set shape: (36, 3)\n",
      "Validation set shape: (12, 3)\n"
     ]
    },
    {
     "data": {
      "text/plain": [
       "Index(['OC01_001', 'OC01_002', 'OC01_003', 'OC04_001', 'OC04_002', 'OC04_003',\n",
       "       'OC05_001', 'OC05_002', 'OC05_003', 'OC06_001',\n",
       "       ...\n",
       "       'S19_2', 'S19_3', 'S20_1', 'S20_2', 'S23_1', 'S23_2', 'S23_3', 'S24_1',\n",
       "       'S24_2', 'S24_3'],\n",
       "      dtype='object', length=107)"
      ]
     },
     "execution_count": 17,
     "metadata": {},
     "output_type": "execute_result"
    }
   ],
   "source": [
    "# Split the dataframe into training and validation sets\n",
    "train_df, val_df = train_test_split(unique_patients, test_size=0.25, stratify=unique_patients[['site', 'grade']], random_state=1)\n",
    "train_df\n",
    "# Print the shapes of the training and validation sets\n",
    "print(\"Training set shape:\", train_df.shape)\n",
    "print(\"Validation set shape:\", val_df.shape)\n",
    "train_indices = y[y['patient_id'].isin(train_df['patient_id'])].index\n",
    "train_indices"
   ]
  },
  {
   "cell_type": "code",
   "execution_count": 16,
   "id": "b4d8a475",
   "metadata": {},
   "outputs": [],
   "source": [
    "# Split each dataframe in the data dictionary into train and test\n",
    "train_data_dict = {}\n",
    "test_data_dict = {}\n",
    "\n",
    "for key, df in data.items():\n",
    "    train_df = df.loc[train_indices]  # Select rows from the dataframe based on train indices\n",
    "    test_df = df.drop(train_indices)  # Drop rows from the dataframe based on train indices\n",
    "    \n",
    "    train_data_dict[key] = train_df\n",
    "    test_data_dict[key] = test_df\n",
    "\n",
    "train_outcome = y.loc[train_indices].grade-1\n",
    "test_outcome = y.drop(train_indices).grade-1"
   ]
  },
  {
   "cell_type": "code",
   "execution_count": 20,
   "id": "904641c5",
   "metadata": {},
   "outputs": [],
   "source": [
    "#Zscore training data\n",
    "for data_name, data_frame in train_data_dict.items():\n",
    "    numeric_columns = data_frame.select_dtypes(include=['float64', 'int64']).columns\n",
    "    train_data_dict[data_name][numeric_columns] = train_data_dict[data_name][numeric_columns].apply(zscore)\n",
    "\n",
    "# Calculate mean and SD from training data\n",
    "train_means = {}\n",
    "train_stds = {}\n",
    "for data_name, data_frame in train_data_dict.items():\n",
    "    numeric_columns = data_frame.select_dtypes(include=['float64', 'int64']).columns\n",
    "    train_means[data_name] = data_frame[numeric_columns].mean()\n",
    "    train_stds[data_name] = data_frame[numeric_columns].std()\n",
    "\n",
    "# Normalize each data layer in testing data using the mean and standard deviation from training data\n",
    "for data_name, data_frame in test_data_dict.items():\n",
    "    if data_name in train_data_dict:\n",
    "        numeric_columns = data_frame.select_dtypes(include=['float64', 'int64']).columns\n",
    "        data_frame[numeric_columns] = (data_frame[numeric_columns] - train_means[data_name]) / train_stds[data_name]"
   ]
  },
  {
   "cell_type": "markdown",
   "id": "28063bba",
   "metadata": {},
   "source": [
    "# Results folder"
   ]
  },
  {
   "cell_type": "code",
   "execution_count": null,
   "id": "cc4081b0",
   "metadata": {},
   "outputs": [],
   "source": [
    "result_folder = \"./RS_MC_RP\""
   ]
  },
  {
   "cell_type": "markdown",
   "id": "4b1c435a",
   "metadata": {},
   "source": [
    "# Main script"
   ]
  },
  {
   "cell_type": "code",
   "execution_count": null,
   "id": "7bfc0d85-6bbc-4f61-8d51-a99eae4bbeae",
   "metadata": {},
   "outputs": [],
   "source": [
    "for omic_name, X_omic in train_data_dict.items():\n",
    "    X_omic = remove_low_info_samples(X_omic)\n",
    "    train_data_dict[omic_name] = X_omic"
   ]
  },
  {
   "cell_type": "code",
   "execution_count": null,
   "id": "7f2a67d6",
   "metadata": {},
   "outputs": [],
   "source": [
    "stabl = Stabl(\n",
    "    lambda_name='C',\n",
    "    lambda_grid=np.linspace(0.01, 5, 10),\n",
    "    n_bootstraps=500,\n",
    "    artificial_type=\"random_permutation\",\n",
    "    artificial_proportion=1.,\n",
    "    replace=False,\n",
    "    fdr_threshold_range=np.arange(0.2, 1, 0.01),\n",
    "    sample_fraction=.5,\n",
    "    random_state=111\n",
    " )\n",
    "\n",
    "outer_splitter = RepeatedStratifiedKFold(n_splits=5, n_repeats=20, random_state=1)\n",
    "\n",
    "stability_selection = clone(stabl).set_params(artificial_type=None, hard_threshold=0.5)"
   ]
  },
  {
   "cell_type": "markdown",
   "id": "2640444c",
   "metadata": {
    "tags": []
   },
   "source": [
    "# Multi-omic Training-CV"
   ]
  },
  {
   "cell_type": "code",
   "execution_count": null,
   "id": "297caa1a-fe10-49c7-98ee-292b89405ecf",
   "metadata": {
    "tags": []
   },
   "outputs": [],
   "source": [
    "np.random.seed(111)"
   ]
  },
  {
   "cell_type": "code",
   "execution_count": null,
   "id": "2303737a",
   "metadata": {
    "scrolled": true,
    "tags": []
   },
   "outputs": [],
   "source": [
    "predictions_dict = multi_omic_stabl_cv(\n",
    "    data_dict=train_data_dict,\n",
    "    y=train_outcome,\n",
    "    outer_splitter=outer_splitter,\n",
    "    stabl=stabl,\n",
    "    stability_selection=stability_selection,\n",
    "    task_type=\"binary\",\n",
    "    save_path=Path(result_folder)\n",
    ")"
   ]
  },
  {
   "attachments": {},
   "cell_type": "markdown",
   "id": "ead591b3",
   "metadata": {},
   "source": [
    "# Multiomic Training to derive coefficients"
   ]
  },
  {
   "cell_type": "code",
   "execution_count": null,
   "id": "1494dd1d",
   "metadata": {},
   "outputs": [],
   "source": [
    "np.random.seed(111)"
   ]
  },
  {
   "cell_type": "code",
   "execution_count": null,
   "id": "df1550c7",
   "metadata": {},
   "outputs": [],
   "source": [
    "stabl_multi = Stabl(\n",
    "    lambda_grid=np.linspace(0.01, 5, 30),\n",
    "    n_bootstraps=5000,\n",
    "    artificial_proportion=1.,\n",
    "    artificial_type=\"random_permutation\",\n",
    "    hard_threshold=None,\n",
    "    replace=False,\n",
    "    fdr_threshold_range=np.arange(0.2, 1, 0.01),\n",
    "    sample_fraction=.5,\n",
    "    random_state=111\n",
    ")\n",
    "\n",
    "stability_selection = clone(stabl_multi).set_params(artificial_type=None, hard_threshold=.3)"
   ]
  },
  {
   "cell_type": "code",
   "execution_count": null,
   "id": "e066a553",
   "metadata": {},
   "outputs": [],
   "source": [
    "predictions_dict = multi_omic_stabl(\n",
    "    data_dict=train_data_dict,\n",
    "    y=train_outcome,\n",
    "    stabl=stabl_multi,\n",
    "    stability_selection=stability_selection,\n",
    "    task_type=\"binary\",\n",
    "    save_path=Path(result_folder),\n",
    "    X_test=pd.concat(test_data_dict.values(),axis=1),\n",
    "    y_test=test_outcome\n",
    ")"
   ]
  },
  {
   "attachments": {},
   "cell_type": "markdown",
   "id": "43fc21e8",
   "metadata": {},
   "source": [
    "# Late fusion lasso"
   ]
  },
  {
   "cell_type": "code",
   "execution_count": null,
   "id": "4ebb1a60",
   "metadata": {},
   "outputs": [],
   "source": [
    "late_fusion_lasso_cv(\n",
    "    train_data_dict=train_data_dict,\n",
    "    y=train_outcome,\n",
    "    outer_splitter=outer_splitter,\n",
    "    task_type=\"binary\",\n",
    "    save_path=result_folder,\n",
    "    groups=None\n",
    ")"
   ]
  },
  {
   "cell_type": "markdown",
   "id": "9ed9b41b-c67e-4d7e-a09b-d82d3743a845",
   "metadata": {},
   "source": [
    "# Features Table"
   ]
  },
  {
   "cell_type": "code",
   "execution_count": null,
   "id": "8a49ba4b",
   "metadata": {},
   "outputs": [],
   "source": [
    "selected_features_dict = dict()\n",
    "for model in [\"STABL\", \"EF Lasso\", \"SS 03\", \"SS 05\", \"SS 08\"]:\n",
    "    path = Path(result_folder, \"Training-Validation\", f\"{model} coefficients.csv\")\n",
    "    try:\n",
    "        selected_features_dict[model] = list(pd.read_csv(path, index_col=0).iloc[:, 0].index)\n",
    "    except:\n",
    "        selected_features_dict[model] = []"
   ]
  },
  {
   "cell_type": "code",
   "execution_count": null,
   "id": "75bbd394",
   "metadata": {},
   "outputs": [],
   "source": [
    "features_table = compute_features_table(\n",
    "    selected_features_dict,\n",
    "    X_train=pd.concat(train_data_dict.values(), axis=1),\n",
    "    y_train=train_outcome,\n",
    "    task_type=\"binary\"\n",
    ")"
   ]
  },
  {
   "cell_type": "code",
   "execution_count": null,
   "id": "07ccb4d7-fa88-49a1-a62f-5965af9ff99c",
   "metadata": {
    "tags": []
   },
   "outputs": [],
   "source": [
    "features_table.to_csv(Path(result_folder, \"Training-Validation\", \"Table of features.csv\"))"
   ]
  }
 ],
 "metadata": {
  "instance_type": "ml.c5.4xlarge",
  "kernelspec": {
   "display_name": "Python 3 (ipykernel)",
   "language": "python",
   "name": "python3"
  },
  "language_info": {
   "codemirror_mode": {
    "name": "ipython",
    "version": 3
   },
   "file_extension": ".py",
   "mimetype": "text/x-python",
   "name": "python",
   "nbconvert_exporter": "python",
   "pygments_lexer": "ipython3",
   "version": "3.9.12"
  },
  "lcc_arn": "arn:aws:sagemaker:us-east-1:011021124722:studio-lifecycle-config/pip-install-kernel",
  "toc": {
   "base_numbering": 1,
   "nav_menu": {},
   "number_sections": true,
   "sideBar": true,
   "skip_h1_title": false,
   "title_cell": "Table of Contents",
   "title_sidebar": "Contents",
   "toc_cell": false,
   "toc_position": {
    "height": "calc(100% - 180px)",
    "left": "10px",
    "top": "150px",
    "width": "384px"
   },
   "toc_section_display": true,
   "toc_window_display": true
  }
 },
 "nbformat": 4,
 "nbformat_minor": 5
}
